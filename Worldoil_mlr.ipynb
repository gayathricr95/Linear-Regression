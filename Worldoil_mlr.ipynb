{
 "cells": [
  {
   "cell_type": "code",
   "execution_count": 1,
   "metadata": {},
   "outputs": [],
   "source": [
    "from IPython.core.interactiveshell import InteractiveShell\n",
    "InteractiveShell.ast_node_interactivity= 'all'"
   ]
  },
  {
   "cell_type": "code",
   "execution_count": 2,
   "metadata": {},
   "outputs": [],
   "source": [
    "import warnings\n",
    "warnings.filterwarnings('ignore')"
   ]
  },
  {
   "cell_type": "code",
   "execution_count": 3,
   "metadata": {},
   "outputs": [],
   "source": [
    "import pandas as pd\n",
    "import numpy as np\n",
    "import matplotlib.pyplot as plt\n",
    "import seaborn as sns\n",
    "import math"
   ]
  },
  {
   "cell_type": "code",
   "execution_count": 4,
   "metadata": {},
   "outputs": [],
   "source": [
    "%matplotlib inline"
   ]
  },
  {
   "cell_type": "code",
   "execution_count": 6,
   "metadata": {},
   "outputs": [],
   "source": [
    "# file reading formats\n",
    "# data = pd.read_csv(\"C:/Users/CR GAYATHRI/Desktop/MachineLearning/Amaresh/CrudeOilOutput.csv\")\n",
    "# data = pd.read_csv(\"C:\\\\Users\\\\CR GAYATHRI\\\\Desktop\\\\MachineLearning\\\\Amaresh\\\\CrudeOilOutput.csv\")\n",
    "data = pd.read_csv(r\"C:\\Users\\CR GAYATHRI\\Desktop\\MachineLearning\\Practice\\CrudeOilOutput.csv\")"
   ]
  },
  {
   "cell_type": "code",
   "execution_count": 7,
   "metadata": {},
   "outputs": [
    {
     "data": {
      "text/html": [
       "<div>\n",
       "<style scoped>\n",
       "    .dataframe tbody tr th:only-of-type {\n",
       "        vertical-align: middle;\n",
       "    }\n",
       "\n",
       "    .dataframe tbody tr th {\n",
       "        vertical-align: top;\n",
       "    }\n",
       "\n",
       "    .dataframe thead th {\n",
       "        text-align: right;\n",
       "    }\n",
       "</style>\n",
       "<table border=\"1\" class=\"dataframe\">\n",
       "  <thead>\n",
       "    <tr style=\"text-align: right;\">\n",
       "      <th></th>\n",
       "      <th>WorldOil</th>\n",
       "      <th>USEnergy</th>\n",
       "      <th>USAutoFuelRate</th>\n",
       "      <th>USNuclear</th>\n",
       "      <th>USCoal</th>\n",
       "      <th>USDryGas</th>\n",
       "    </tr>\n",
       "  </thead>\n",
       "  <tbody>\n",
       "    <tr>\n",
       "      <td>0</td>\n",
       "      <td>55.7</td>\n",
       "      <td>74.3</td>\n",
       "      <td>13.4</td>\n",
       "      <td>83.5</td>\n",
       "      <td>598.6</td>\n",
       "      <td>21.7</td>\n",
       "    </tr>\n",
       "    <tr>\n",
       "      <td>1</td>\n",
       "      <td>55.7</td>\n",
       "      <td>72.5</td>\n",
       "      <td>13.6</td>\n",
       "      <td>114.0</td>\n",
       "      <td>610.0</td>\n",
       "      <td>20.7</td>\n",
       "    </tr>\n",
       "    <tr>\n",
       "      <td>2</td>\n",
       "      <td>52.8</td>\n",
       "      <td>70.5</td>\n",
       "      <td>14.0</td>\n",
       "      <td>172.5</td>\n",
       "      <td>654.6</td>\n",
       "      <td>19.2</td>\n",
       "    </tr>\n",
       "    <tr>\n",
       "      <td>3</td>\n",
       "      <td>57.3</td>\n",
       "      <td>74.4</td>\n",
       "      <td>13.8</td>\n",
       "      <td>191.1</td>\n",
       "      <td>684.9</td>\n",
       "      <td>19.1</td>\n",
       "    </tr>\n",
       "    <tr>\n",
       "      <td>4</td>\n",
       "      <td>59.7</td>\n",
       "      <td>76.3</td>\n",
       "      <td>14.1</td>\n",
       "      <td>250.9</td>\n",
       "      <td>697.2</td>\n",
       "      <td>19.2</td>\n",
       "    </tr>\n",
       "  </tbody>\n",
       "</table>\n",
       "</div>"
      ],
      "text/plain": [
       "   WorldOil  USEnergy  USAutoFuelRate  USNuclear  USCoal  USDryGas\n",
       "0      55.7      74.3            13.4       83.5   598.6      21.7\n",
       "1      55.7      72.5            13.6      114.0   610.0      20.7\n",
       "2      52.8      70.5            14.0      172.5   654.6      19.2\n",
       "3      57.3      74.4            13.8      191.1   684.9      19.1\n",
       "4      59.7      76.3            14.1      250.9   697.2      19.2"
      ]
     },
     "execution_count": 7,
     "metadata": {},
     "output_type": "execute_result"
    }
   ],
   "source": [
    "data.head()"
   ]
  },
  {
   "cell_type": "code",
   "execution_count": 8,
   "metadata": {},
   "outputs": [
    {
     "data": {
      "text/plain": [
       "Index(['WorldOil', 'USEnergy', 'USAutoFuelRate', 'USNuclear', 'USCoal',\n",
       "       'USDryGas'],\n",
       "      dtype='object')"
      ]
     },
     "execution_count": 8,
     "metadata": {},
     "output_type": "execute_result"
    }
   ],
   "source": [
    "data.columns"
   ]
  },
  {
   "cell_type": "code",
   "execution_count": 9,
   "metadata": {},
   "outputs": [
    {
     "name": "stdout",
     "output_type": "stream",
     "text": [
      "<class 'pandas.core.frame.DataFrame'>\n",
      "RangeIndex: 26 entries, 0 to 25\n",
      "Data columns (total 6 columns):\n",
      "WorldOil          26 non-null float64\n",
      "USEnergy          26 non-null float64\n",
      "USAutoFuelRate    26 non-null float64\n",
      "USNuclear         26 non-null float64\n",
      "USCoal            26 non-null float64\n",
      "USDryGas          26 non-null float64\n",
      "dtypes: float64(6)\n",
      "memory usage: 1.3 KB\n"
     ]
    }
   ],
   "source": [
    "data.info()"
   ]
  },
  {
   "cell_type": "code",
   "execution_count": 10,
   "metadata": {},
   "outputs": [
    {
     "data": {
      "text/html": [
       "<div>\n",
       "<style scoped>\n",
       "    .dataframe tbody tr th:only-of-type {\n",
       "        vertical-align: middle;\n",
       "    }\n",
       "\n",
       "    .dataframe tbody tr th {\n",
       "        vertical-align: top;\n",
       "    }\n",
       "\n",
       "    .dataframe thead th {\n",
       "        text-align: right;\n",
       "    }\n",
       "</style>\n",
       "<table border=\"1\" class=\"dataframe\">\n",
       "  <thead>\n",
       "    <tr style=\"text-align: right;\">\n",
       "      <th></th>\n",
       "      <th>WorldOil</th>\n",
       "      <th>USEnergy</th>\n",
       "      <th>USAutoFuelRate</th>\n",
       "      <th>USNuclear</th>\n",
       "      <th>USCoal</th>\n",
       "      <th>USDryGas</th>\n",
       "    </tr>\n",
       "  </thead>\n",
       "  <tbody>\n",
       "    <tr>\n",
       "      <td>WorldOil</td>\n",
       "      <td>14.937062</td>\n",
       "      <td>21.9476</td>\n",
       "      <td>6.526692</td>\n",
       "      <td>501.455754</td>\n",
       "      <td>371.381938</td>\n",
       "      <td>1.116877</td>\n",
       "    </tr>\n",
       "    <tr>\n",
       "      <td>USEnergy</td>\n",
       "      <td>21.947600</td>\n",
       "      <td>37.8328</td>\n",
       "      <td>14.033600</td>\n",
       "      <td>1018.079600</td>\n",
       "      <td>749.598800</td>\n",
       "      <td>0.472800</td>\n",
       "    </tr>\n",
       "    <tr>\n",
       "      <td>USAutoFuelRate</td>\n",
       "      <td>6.526692</td>\n",
       "      <td>14.0336</td>\n",
       "      <td>8.326538</td>\n",
       "      <td>542.555631</td>\n",
       "      <td>430.252308</td>\n",
       "      <td>-1.644385</td>\n",
       "    </tr>\n",
       "    <tr>\n",
       "      <td>USNuclear</td>\n",
       "      <td>501.455754</td>\n",
       "      <td>1018.0796</td>\n",
       "      <td>542.555631</td>\n",
       "      <td>37410.547385</td>\n",
       "      <td>28368.995846</td>\n",
       "      <td>-105.363508</td>\n",
       "    </tr>\n",
       "    <tr>\n",
       "      <td>USCoal</td>\n",
       "      <td>371.381938</td>\n",
       "      <td>749.5988</td>\n",
       "      <td>430.252308</td>\n",
       "      <td>28368.995846</td>\n",
       "      <td>23730.313662</td>\n",
       "      <td>-93.112677</td>\n",
       "    </tr>\n",
       "    <tr>\n",
       "      <td>USDryGas</td>\n",
       "      <td>1.116877</td>\n",
       "      <td>0.4728</td>\n",
       "      <td>-1.644385</td>\n",
       "      <td>-105.363508</td>\n",
       "      <td>-93.112677</td>\n",
       "      <td>1.816446</td>\n",
       "    </tr>\n",
       "  </tbody>\n",
       "</table>\n",
       "</div>"
      ],
      "text/plain": [
       "                  WorldOil   USEnergy  USAutoFuelRate     USNuclear  \\\n",
       "WorldOil         14.937062    21.9476        6.526692    501.455754   \n",
       "USEnergy         21.947600    37.8328       14.033600   1018.079600   \n",
       "USAutoFuelRate    6.526692    14.0336        8.326538    542.555631   \n",
       "USNuclear       501.455754  1018.0796      542.555631  37410.547385   \n",
       "USCoal          371.381938   749.5988      430.252308  28368.995846   \n",
       "USDryGas          1.116877     0.4728       -1.644385   -105.363508   \n",
       "\n",
       "                      USCoal    USDryGas  \n",
       "WorldOil          371.381938    1.116877  \n",
       "USEnergy          749.598800    0.472800  \n",
       "USAutoFuelRate    430.252308   -1.644385  \n",
       "USNuclear       28368.995846 -105.363508  \n",
       "USCoal          23730.313662  -93.112677  \n",
       "USDryGas          -93.112677    1.816446  "
      ]
     },
     "execution_count": 10,
     "metadata": {},
     "output_type": "execute_result"
    }
   ],
   "source": [
    "data.cov()"
   ]
  },
  {
   "cell_type": "code",
   "execution_count": 11,
   "metadata": {},
   "outputs": [
    {
     "data": {
      "text/html": [
       "<div>\n",
       "<style scoped>\n",
       "    .dataframe tbody tr th:only-of-type {\n",
       "        vertical-align: middle;\n",
       "    }\n",
       "\n",
       "    .dataframe tbody tr th {\n",
       "        vertical-align: top;\n",
       "    }\n",
       "\n",
       "    .dataframe thead th {\n",
       "        text-align: right;\n",
       "    }\n",
       "</style>\n",
       "<table border=\"1\" class=\"dataframe\">\n",
       "  <thead>\n",
       "    <tr style=\"text-align: right;\">\n",
       "      <th></th>\n",
       "      <th>WorldOil</th>\n",
       "      <th>USEnergy</th>\n",
       "      <th>USAutoFuelRate</th>\n",
       "      <th>USNuclear</th>\n",
       "      <th>USCoal</th>\n",
       "      <th>USDryGas</th>\n",
       "    </tr>\n",
       "  </thead>\n",
       "  <tbody>\n",
       "    <tr>\n",
       "      <td>WorldOil</td>\n",
       "      <td>1.000000</td>\n",
       "      <td>0.923252</td>\n",
       "      <td>0.585232</td>\n",
       "      <td>0.670815</td>\n",
       "      <td>0.623787</td>\n",
       "      <td>0.214418</td>\n",
       "    </tr>\n",
       "    <tr>\n",
       "      <td>USEnergy</td>\n",
       "      <td>0.923252</td>\n",
       "      <td>1.000000</td>\n",
       "      <td>0.790683</td>\n",
       "      <td>0.855757</td>\n",
       "      <td>0.791121</td>\n",
       "      <td>0.057034</td>\n",
       "    </tr>\n",
       "    <tr>\n",
       "      <td>USAutoFuelRate</td>\n",
       "      <td>0.585232</td>\n",
       "      <td>0.790683</td>\n",
       "      <td>1.000000</td>\n",
       "      <td>0.972109</td>\n",
       "      <td>0.967919</td>\n",
       "      <td>-0.422824</td>\n",
       "    </tr>\n",
       "    <tr>\n",
       "      <td>USNuclear</td>\n",
       "      <td>0.670815</td>\n",
       "      <td>0.855757</td>\n",
       "      <td>0.972109</td>\n",
       "      <td>1.000000</td>\n",
       "      <td>0.952128</td>\n",
       "      <td>-0.404187</td>\n",
       "    </tr>\n",
       "    <tr>\n",
       "      <td>USCoal</td>\n",
       "      <td>0.623787</td>\n",
       "      <td>0.791121</td>\n",
       "      <td>0.967919</td>\n",
       "      <td>0.952128</td>\n",
       "      <td>1.000000</td>\n",
       "      <td>-0.448483</td>\n",
       "    </tr>\n",
       "    <tr>\n",
       "      <td>USDryGas</td>\n",
       "      <td>0.214418</td>\n",
       "      <td>0.057034</td>\n",
       "      <td>-0.422824</td>\n",
       "      <td>-0.404187</td>\n",
       "      <td>-0.448483</td>\n",
       "      <td>1.000000</td>\n",
       "    </tr>\n",
       "  </tbody>\n",
       "</table>\n",
       "</div>"
      ],
      "text/plain": [
       "                WorldOil  USEnergy  USAutoFuelRate  USNuclear    USCoal  \\\n",
       "WorldOil        1.000000  0.923252        0.585232   0.670815  0.623787   \n",
       "USEnergy        0.923252  1.000000        0.790683   0.855757  0.791121   \n",
       "USAutoFuelRate  0.585232  0.790683        1.000000   0.972109  0.967919   \n",
       "USNuclear       0.670815  0.855757        0.972109   1.000000  0.952128   \n",
       "USCoal          0.623787  0.791121        0.967919   0.952128  1.000000   \n",
       "USDryGas        0.214418  0.057034       -0.422824  -0.404187 -0.448483   \n",
       "\n",
       "                USDryGas  \n",
       "WorldOil        0.214418  \n",
       "USEnergy        0.057034  \n",
       "USAutoFuelRate -0.422824  \n",
       "USNuclear      -0.404187  \n",
       "USCoal         -0.448483  \n",
       "USDryGas        1.000000  "
      ]
     },
     "execution_count": 11,
     "metadata": {},
     "output_type": "execute_result"
    }
   ],
   "source": [
    "data.corr()"
   ]
  },
  {
   "cell_type": "code",
   "execution_count": 12,
   "metadata": {},
   "outputs": [],
   "source": [
    "sns.set_style(style='darkgrid')\n",
    "plt.style.use('ggplot')"
   ]
  },
  {
   "cell_type": "code",
   "execution_count": 13,
   "metadata": {},
   "outputs": [
    {
     "data": {
      "text/html": [
       "<style  type=\"text/css\" >\n",
       "    #T_70e2ffe2_99c1_11ea_8b0d_d4258b8e7db1row0_col0 {\n",
       "            background-color:  #00441b;\n",
       "            color:  #f1f1f1;\n",
       "        }    #T_70e2ffe2_99c1_11ea_8b0d_d4258b8e7db1row0_col1 {\n",
       "            background-color:  #005e26;\n",
       "            color:  #f1f1f1;\n",
       "        }    #T_70e2ffe2_99c1_11ea_8b0d_d4258b8e7db1row0_col2 {\n",
       "            background-color:  #2d954d;\n",
       "            color:  #000000;\n",
       "        }    #T_70e2ffe2_99c1_11ea_8b0d_d4258b8e7db1row0_col3 {\n",
       "            background-color:  #1f8742;\n",
       "            color:  #000000;\n",
       "        }    #T_70e2ffe2_99c1_11ea_8b0d_d4258b8e7db1row0_col4 {\n",
       "            background-color:  #258d47;\n",
       "            color:  #000000;\n",
       "        }    #T_70e2ffe2_99c1_11ea_8b0d_d4258b8e7db1row0_col5 {\n",
       "            background-color:  #83cb82;\n",
       "            color:  #000000;\n",
       "        }    #T_70e2ffe2_99c1_11ea_8b0d_d4258b8e7db1row1_col0 {\n",
       "            background-color:  #006428;\n",
       "            color:  #f1f1f1;\n",
       "        }    #T_70e2ffe2_99c1_11ea_8b0d_d4258b8e7db1row1_col1 {\n",
       "            background-color:  #00441b;\n",
       "            color:  #f1f1f1;\n",
       "        }    #T_70e2ffe2_99c1_11ea_8b0d_d4258b8e7db1row1_col2 {\n",
       "            background-color:  #067230;\n",
       "            color:  #f1f1f1;\n",
       "        }    #T_70e2ffe2_99c1_11ea_8b0d_d4258b8e7db1row1_col3 {\n",
       "            background-color:  #006529;\n",
       "            color:  #f1f1f1;\n",
       "        }    #T_70e2ffe2_99c1_11ea_8b0d_d4258b8e7db1row1_col4 {\n",
       "            background-color:  #05712f;\n",
       "            color:  #f1f1f1;\n",
       "        }    #T_70e2ffe2_99c1_11ea_8b0d_d4258b8e7db1row1_col5 {\n",
       "            background-color:  #a9dca3;\n",
       "            color:  #000000;\n",
       "        }    #T_70e2ffe2_99c1_11ea_8b0d_d4258b8e7db1row2_col0 {\n",
       "            background-color:  #7fc97f;\n",
       "            color:  #000000;\n",
       "        }    #T_70e2ffe2_99c1_11ea_8b0d_d4258b8e7db1row2_col1 {\n",
       "            background-color:  #1a843f;\n",
       "            color:  #000000;\n",
       "        }    #T_70e2ffe2_99c1_11ea_8b0d_d4258b8e7db1row2_col2 {\n",
       "            background-color:  #00441b;\n",
       "            color:  #f1f1f1;\n",
       "        }    #T_70e2ffe2_99c1_11ea_8b0d_d4258b8e7db1row2_col3 {\n",
       "            background-color:  #004a1e;\n",
       "            color:  #f1f1f1;\n",
       "        }    #T_70e2ffe2_99c1_11ea_8b0d_d4258b8e7db1row2_col4 {\n",
       "            background-color:  #004a1e;\n",
       "            color:  #f1f1f1;\n",
       "        }    #T_70e2ffe2_99c1_11ea_8b0d_d4258b8e7db1row2_col5 {\n",
       "            background-color:  #f5fbf2;\n",
       "            color:  #000000;\n",
       "        }    #T_70e2ffe2_99c1_11ea_8b0d_d4258b8e7db1row3_col0 {\n",
       "            background-color:  #53b466;\n",
       "            color:  #000000;\n",
       "        }    #T_70e2ffe2_99c1_11ea_8b0d_d4258b8e7db1row3_col1 {\n",
       "            background-color:  #087432;\n",
       "            color:  #f1f1f1;\n",
       "        }    #T_70e2ffe2_99c1_11ea_8b0d_d4258b8e7db1row3_col2 {\n",
       "            background-color:  #004a1e;\n",
       "            color:  #f1f1f1;\n",
       "        }    #T_70e2ffe2_99c1_11ea_8b0d_d4258b8e7db1row3_col3 {\n",
       "            background-color:  #00441b;\n",
       "            color:  #f1f1f1;\n",
       "        }    #T_70e2ffe2_99c1_11ea_8b0d_d4258b8e7db1row3_col4 {\n",
       "            background-color:  #004e1f;\n",
       "            color:  #f1f1f1;\n",
       "        }    #T_70e2ffe2_99c1_11ea_8b0d_d4258b8e7db1row3_col5 {\n",
       "            background-color:  #f3faf0;\n",
       "            color:  #000000;\n",
       "        }    #T_70e2ffe2_99c1_11ea_8b0d_d4258b8e7db1row4_col0 {\n",
       "            background-color:  #6bc072;\n",
       "            color:  #000000;\n",
       "        }    #T_70e2ffe2_99c1_11ea_8b0d_d4258b8e7db1row4_col1 {\n",
       "            background-color:  #1a843f;\n",
       "            color:  #000000;\n",
       "        }    #T_70e2ffe2_99c1_11ea_8b0d_d4258b8e7db1row4_col2 {\n",
       "            background-color:  #004a1e;\n",
       "            color:  #f1f1f1;\n",
       "        }    #T_70e2ffe2_99c1_11ea_8b0d_d4258b8e7db1row4_col3 {\n",
       "            background-color:  #004e1f;\n",
       "            color:  #f1f1f1;\n",
       "        }    #T_70e2ffe2_99c1_11ea_8b0d_d4258b8e7db1row4_col4 {\n",
       "            background-color:  #00441b;\n",
       "            color:  #f1f1f1;\n",
       "        }    #T_70e2ffe2_99c1_11ea_8b0d_d4258b8e7db1row4_col5 {\n",
       "            background-color:  #f7fcf5;\n",
       "            color:  #000000;\n",
       "        }    #T_70e2ffe2_99c1_11ea_8b0d_d4258b8e7db1row5_col0 {\n",
       "            background-color:  #f7fcf5;\n",
       "            color:  #000000;\n",
       "        }    #T_70e2ffe2_99c1_11ea_8b0d_d4258b8e7db1row5_col1 {\n",
       "            background-color:  #f7fcf5;\n",
       "            color:  #000000;\n",
       "        }    #T_70e2ffe2_99c1_11ea_8b0d_d4258b8e7db1row5_col2 {\n",
       "            background-color:  #f7fcf5;\n",
       "            color:  #000000;\n",
       "        }    #T_70e2ffe2_99c1_11ea_8b0d_d4258b8e7db1row5_col3 {\n",
       "            background-color:  #f7fcf5;\n",
       "            color:  #000000;\n",
       "        }    #T_70e2ffe2_99c1_11ea_8b0d_d4258b8e7db1row5_col4 {\n",
       "            background-color:  #f7fcf5;\n",
       "            color:  #000000;\n",
       "        }    #T_70e2ffe2_99c1_11ea_8b0d_d4258b8e7db1row5_col5 {\n",
       "            background-color:  #00441b;\n",
       "            color:  #f1f1f1;\n",
       "        }</style><table id=\"T_70e2ffe2_99c1_11ea_8b0d_d4258b8e7db1\" ><thead>    <tr>        <th class=\"blank level0\" ></th>        <th class=\"col_heading level0 col0\" >WorldOil</th>        <th class=\"col_heading level0 col1\" >USEnergy</th>        <th class=\"col_heading level0 col2\" >USAutoFuelRate</th>        <th class=\"col_heading level0 col3\" >USNuclear</th>        <th class=\"col_heading level0 col4\" >USCoal</th>        <th class=\"col_heading level0 col5\" >USDryGas</th>    </tr></thead><tbody>\n",
       "                <tr>\n",
       "                        <th id=\"T_70e2ffe2_99c1_11ea_8b0d_d4258b8e7db1level0_row0\" class=\"row_heading level0 row0\" >WorldOil</th>\n",
       "                        <td id=\"T_70e2ffe2_99c1_11ea_8b0d_d4258b8e7db1row0_col0\" class=\"data row0 col0\" >1</td>\n",
       "                        <td id=\"T_70e2ffe2_99c1_11ea_8b0d_d4258b8e7db1row0_col1\" class=\"data row0 col1\" >0.923252</td>\n",
       "                        <td id=\"T_70e2ffe2_99c1_11ea_8b0d_d4258b8e7db1row0_col2\" class=\"data row0 col2\" >0.585232</td>\n",
       "                        <td id=\"T_70e2ffe2_99c1_11ea_8b0d_d4258b8e7db1row0_col3\" class=\"data row0 col3\" >0.670815</td>\n",
       "                        <td id=\"T_70e2ffe2_99c1_11ea_8b0d_d4258b8e7db1row0_col4\" class=\"data row0 col4\" >0.623787</td>\n",
       "                        <td id=\"T_70e2ffe2_99c1_11ea_8b0d_d4258b8e7db1row0_col5\" class=\"data row0 col5\" >0.214418</td>\n",
       "            </tr>\n",
       "            <tr>\n",
       "                        <th id=\"T_70e2ffe2_99c1_11ea_8b0d_d4258b8e7db1level0_row1\" class=\"row_heading level0 row1\" >USEnergy</th>\n",
       "                        <td id=\"T_70e2ffe2_99c1_11ea_8b0d_d4258b8e7db1row1_col0\" class=\"data row1 col0\" >0.923252</td>\n",
       "                        <td id=\"T_70e2ffe2_99c1_11ea_8b0d_d4258b8e7db1row1_col1\" class=\"data row1 col1\" >1</td>\n",
       "                        <td id=\"T_70e2ffe2_99c1_11ea_8b0d_d4258b8e7db1row1_col2\" class=\"data row1 col2\" >0.790683</td>\n",
       "                        <td id=\"T_70e2ffe2_99c1_11ea_8b0d_d4258b8e7db1row1_col3\" class=\"data row1 col3\" >0.855757</td>\n",
       "                        <td id=\"T_70e2ffe2_99c1_11ea_8b0d_d4258b8e7db1row1_col4\" class=\"data row1 col4\" >0.791121</td>\n",
       "                        <td id=\"T_70e2ffe2_99c1_11ea_8b0d_d4258b8e7db1row1_col5\" class=\"data row1 col5\" >0.0570338</td>\n",
       "            </tr>\n",
       "            <tr>\n",
       "                        <th id=\"T_70e2ffe2_99c1_11ea_8b0d_d4258b8e7db1level0_row2\" class=\"row_heading level0 row2\" >USAutoFuelRate</th>\n",
       "                        <td id=\"T_70e2ffe2_99c1_11ea_8b0d_d4258b8e7db1row2_col0\" class=\"data row2 col0\" >0.585232</td>\n",
       "                        <td id=\"T_70e2ffe2_99c1_11ea_8b0d_d4258b8e7db1row2_col1\" class=\"data row2 col1\" >0.790683</td>\n",
       "                        <td id=\"T_70e2ffe2_99c1_11ea_8b0d_d4258b8e7db1row2_col2\" class=\"data row2 col2\" >1</td>\n",
       "                        <td id=\"T_70e2ffe2_99c1_11ea_8b0d_d4258b8e7db1row2_col3\" class=\"data row2 col3\" >0.972109</td>\n",
       "                        <td id=\"T_70e2ffe2_99c1_11ea_8b0d_d4258b8e7db1row2_col4\" class=\"data row2 col4\" >0.967919</td>\n",
       "                        <td id=\"T_70e2ffe2_99c1_11ea_8b0d_d4258b8e7db1row2_col5\" class=\"data row2 col5\" >-0.422824</td>\n",
       "            </tr>\n",
       "            <tr>\n",
       "                        <th id=\"T_70e2ffe2_99c1_11ea_8b0d_d4258b8e7db1level0_row3\" class=\"row_heading level0 row3\" >USNuclear</th>\n",
       "                        <td id=\"T_70e2ffe2_99c1_11ea_8b0d_d4258b8e7db1row3_col0\" class=\"data row3 col0\" >0.670815</td>\n",
       "                        <td id=\"T_70e2ffe2_99c1_11ea_8b0d_d4258b8e7db1row3_col1\" class=\"data row3 col1\" >0.855757</td>\n",
       "                        <td id=\"T_70e2ffe2_99c1_11ea_8b0d_d4258b8e7db1row3_col2\" class=\"data row3 col2\" >0.972109</td>\n",
       "                        <td id=\"T_70e2ffe2_99c1_11ea_8b0d_d4258b8e7db1row3_col3\" class=\"data row3 col3\" >1</td>\n",
       "                        <td id=\"T_70e2ffe2_99c1_11ea_8b0d_d4258b8e7db1row3_col4\" class=\"data row3 col4\" >0.952128</td>\n",
       "                        <td id=\"T_70e2ffe2_99c1_11ea_8b0d_d4258b8e7db1row3_col5\" class=\"data row3 col5\" >-0.404187</td>\n",
       "            </tr>\n",
       "            <tr>\n",
       "                        <th id=\"T_70e2ffe2_99c1_11ea_8b0d_d4258b8e7db1level0_row4\" class=\"row_heading level0 row4\" >USCoal</th>\n",
       "                        <td id=\"T_70e2ffe2_99c1_11ea_8b0d_d4258b8e7db1row4_col0\" class=\"data row4 col0\" >0.623787</td>\n",
       "                        <td id=\"T_70e2ffe2_99c1_11ea_8b0d_d4258b8e7db1row4_col1\" class=\"data row4 col1\" >0.791121</td>\n",
       "                        <td id=\"T_70e2ffe2_99c1_11ea_8b0d_d4258b8e7db1row4_col2\" class=\"data row4 col2\" >0.967919</td>\n",
       "                        <td id=\"T_70e2ffe2_99c1_11ea_8b0d_d4258b8e7db1row4_col3\" class=\"data row4 col3\" >0.952128</td>\n",
       "                        <td id=\"T_70e2ffe2_99c1_11ea_8b0d_d4258b8e7db1row4_col4\" class=\"data row4 col4\" >1</td>\n",
       "                        <td id=\"T_70e2ffe2_99c1_11ea_8b0d_d4258b8e7db1row4_col5\" class=\"data row4 col5\" >-0.448483</td>\n",
       "            </tr>\n",
       "            <tr>\n",
       "                        <th id=\"T_70e2ffe2_99c1_11ea_8b0d_d4258b8e7db1level0_row5\" class=\"row_heading level0 row5\" >USDryGas</th>\n",
       "                        <td id=\"T_70e2ffe2_99c1_11ea_8b0d_d4258b8e7db1row5_col0\" class=\"data row5 col0\" >0.214418</td>\n",
       "                        <td id=\"T_70e2ffe2_99c1_11ea_8b0d_d4258b8e7db1row5_col1\" class=\"data row5 col1\" >0.0570338</td>\n",
       "                        <td id=\"T_70e2ffe2_99c1_11ea_8b0d_d4258b8e7db1row5_col2\" class=\"data row5 col2\" >-0.422824</td>\n",
       "                        <td id=\"T_70e2ffe2_99c1_11ea_8b0d_d4258b8e7db1row5_col3\" class=\"data row5 col3\" >-0.404187</td>\n",
       "                        <td id=\"T_70e2ffe2_99c1_11ea_8b0d_d4258b8e7db1row5_col4\" class=\"data row5 col4\" >-0.448483</td>\n",
       "                        <td id=\"T_70e2ffe2_99c1_11ea_8b0d_d4258b8e7db1row5_col5\" class=\"data row5 col5\" >1</td>\n",
       "            </tr>\n",
       "    </tbody></table>"
      ],
      "text/plain": [
       "<pandas.io.formats.style.Styler at 0x24c099bf188>"
      ]
     },
     "execution_count": 13,
     "metadata": {},
     "output_type": "execute_result"
    }
   ],
   "source": [
    "data.corr().style.background_gradient(cmap = 'Greens')"
   ]
  },
  {
   "cell_type": "code",
   "execution_count": 14,
   "metadata": {},
   "outputs": [
    {
     "data": {
      "text/plain": [
       "<Figure size 600x400 with 0 Axes>"
      ]
     },
     "execution_count": 14,
     "metadata": {},
     "output_type": "execute_result"
    },
    {
     "data": {
      "text/plain": [
       "<matplotlib.axes._subplots.AxesSubplot at 0x24c0b454d48>"
      ]
     },
     "execution_count": 14,
     "metadata": {},
     "output_type": "execute_result"
    },
    {
     "data": {
      "image/png": "[encoded data removed]",
      "text/plain": [
       "<Figure size 600x400 with 2 Axes>"
      ]
     },
     "metadata": {},
     "output_type": "display_data"
    }
   ],
   "source": [
    "plt.figure(dpi = 100)\n",
    "\n",
    "sns.heatmap(data.corr(), annot= True, cmap = 'Accent')"
   ]
  },
  {
   "cell_type": "code",
   "execution_count": 15,
   "metadata": {},
   "outputs": [
    {
     "data": {
      "text/plain": [
       "<seaborn.axisgrid.PairGrid at 0x24c099dac08>"
      ]
     },
     "execution_count": 15,
     "metadata": {},
     "output_type": "execute_result"
    },
    {
     "data": {
      "image/png": "[encoded data removed]",
      "text/plain": [
       "<Figure size 1080x1080 with 42 Axes>"
      ]
     },
     "metadata": {},
     "output_type": "display_data"
    }
   ],
   "source": [
    "sns.pairplot(data)"
   ]
  },
  {
   "cell_type": "code",
   "execution_count": 16,
   "metadata": {},
   "outputs": [],
   "source": [
    "from sklearn.linear_model import LinearRegression"
   ]
  },
  {
   "cell_type": "code",
   "execution_count": 17,
   "metadata": {},
   "outputs": [
    {
     "data": {
      "text/plain": [
       "Index(['WorldOil', 'USEnergy', 'USAutoFuelRate', 'USNuclear', 'USCoal',\n",
       "       'USDryGas'],\n",
       "      dtype='object')"
      ]
     },
     "execution_count": 17,
     "metadata": {},
     "output_type": "execute_result"
    }
   ],
   "source": [
    "data.columns"
   ]
  },
  {
   "cell_type": "code",
   "execution_count": 18,
   "metadata": {},
   "outputs": [],
   "source": [
    "X = data.drop('WorldOil', axis=1)\n",
    "Y = data['WorldOil']"
   ]
  },
  {
   "cell_type": "code",
   "execution_count": 19,
   "metadata": {},
   "outputs": [],
   "source": [
    "reg = LinearRegression()"
   ]
  },
  {
   "cell_type": "code",
   "execution_count": 20,
   "metadata": {},
   "outputs": [],
   "source": [
    "regfit = reg.fit(X,Y)"
   ]
  },
  {
   "cell_type": "code",
   "execution_count": 21,
   "metadata": {},
   "outputs": [
    {
     "data": {
      "text/plain": [
       "array([ 0.83567046, -0.73414356, -0.00654432,  0.00982508, -0.14321095])"
      ]
     },
     "execution_count": 21,
     "metadata": {},
     "output_type": "execute_result"
    }
   ],
   "source": [
    "regfit.coef_"
   ]
  },
  {
   "cell_type": "code",
   "execution_count": 22,
   "metadata": {},
   "outputs": [
    {
     "data": {
      "text/plain": [
       "2.7084739503587016"
      ]
     },
     "execution_count": 22,
     "metadata": {},
     "output_type": "execute_result"
    }
   ],
   "source": [
    "regfit.intercept_"
   ]
  },
  {
   "cell_type": "code",
   "execution_count": 23,
   "metadata": {},
   "outputs": [
    {
     "data": {
      "text/plain": [
       "0.920974671551571"
      ]
     },
     "execution_count": 23,
     "metadata": {},
     "output_type": "execute_result"
    }
   ],
   "source": [
    "regfit.score(X,Y)"
   ]
  },
  {
   "cell_type": "code",
   "execution_count": 24,
   "metadata": {},
   "outputs": [],
   "source": [
    "from sklearn import metrics"
   ]
  },
  {
   "cell_type": "code",
   "execution_count": 25,
   "metadata": {},
   "outputs": [],
   "source": [
    "regpred = regfit.predict(X)"
   ]
  },
  {
   "cell_type": "code",
   "execution_count": 26,
   "metadata": {},
   "outputs": [
    {
     "data": {
      "text/plain": [
       "0.920974671551571"
      ]
     },
     "execution_count": 26,
     "metadata": {},
     "output_type": "execute_result"
    }
   ],
   "source": [
    "from sklearn.metrics import r2_score\n",
    "r2_score(Y,regpred)"
   ]
  },
  {
   "cell_type": "code",
   "execution_count": 27,
   "metadata": {},
   "outputs": [
    {
     "data": {
      "text/plain": [
       "1.0653665828697179"
      ]
     },
     "execution_count": 27,
     "metadata": {},
     "output_type": "execute_result"
    }
   ],
   "source": [
    "np.sqrt(metrics.mean_squared_error(Y,regpred))"
   ]
  },
  {
   "cell_type": "code",
   "execution_count": 28,
   "metadata": {},
   "outputs": [],
   "source": [
    "import statsmodels.formula.api as smf"
   ]
  },
  {
   "cell_type": "code",
   "execution_count": 29,
   "metadata": {},
   "outputs": [
    {
     "data": {
      "text/plain": [
       "Index(['WorldOil', 'USEnergy', 'USAutoFuelRate', 'USNuclear', 'USCoal',\n",
       "       'USDryGas'],\n",
       "      dtype='object')"
      ]
     },
     "execution_count": 29,
     "metadata": {},
     "output_type": "execute_result"
    }
   ],
   "source": [
    "data.columns"
   ]
  },
  {
   "cell_type": "code",
   "execution_count": 30,
   "metadata": {},
   "outputs": [
    {
     "data": {
      "text/plain": [
       "'WorldOil+USEnergy+USAutoFuelRate+USNuclear+USCoal+USDryGas'"
      ]
     },
     "execution_count": 30,
     "metadata": {},
     "output_type": "execute_result"
    }
   ],
   "source": [
    "'+'.join(data.columns)"
   ]
  },
  {
   "cell_type": "code",
   "execution_count": 31,
   "metadata": {},
   "outputs": [],
   "source": [
    "olsmodel = smf.ols(formula='WorldOil~USEnergy+USAutoFuelRate+USNuclear+USCoal+USDryGas', data=data).fit()"
   ]
  },
  {
   "cell_type": "code",
   "execution_count": 32,
   "metadata": {},
   "outputs": [
    {
     "name": "stdout",
     "output_type": "stream",
     "text": [
      "                            OLS Regression Results                            \n",
      "==============================================================================\n",
      "Dep. Variable:               WorldOil   R-squared:                       0.921\n",
      "Model:                            OLS   Adj. R-squared:                  0.901\n",
      "Method:                 Least Squares   F-statistic:                     46.62\n",
      "Date:                Tue, 19 May 2020   Prob (F-statistic):           2.41e-10\n",
      "Time:                        17:12:52   Log-Likelihood:                -38.539\n",
      "No. Observations:                  26   AIC:                             89.08\n",
      "Df Residuals:                      20   BIC:                             96.63\n",
      "Df Model:                           5                                         \n",
      "Covariance Type:            nonrobust                                         \n",
      "==================================================================================\n",
      "                     coef    std err          t      P>|t|      [0.025      0.975]\n",
      "----------------------------------------------------------------------------------\n",
      "Intercept          2.7085      8.909      0.304      0.764     -15.875      21.292\n",
      "USEnergy           0.8357      0.180      4.637      0.000       0.460       1.212\n",
      "USAutoFuelRate    -0.7341      0.549     -1.338      0.196      -1.879       0.411\n",
      "USNuclear         -0.0065      0.010     -0.664      0.514      -0.027       0.014\n",
      "USCoal             0.0098      0.007      1.348      0.193      -0.005       0.025\n",
      "USDryGas          -0.1432      0.448     -0.319      0.753      -1.079       0.792\n",
      "==============================================================================\n",
      "Omnibus:                        3.473   Durbin-Watson:                   1.096\n",
      "Prob(Omnibus):                  0.176   Jarque-Bera (JB):                1.450\n",
      "Skew:                           0.104   Prob(JB):                        0.484\n",
      "Kurtosis:                       1.862   Cond. No.                     3.73e+04\n",
      "==============================================================================\n",
      "\n",
      "Warnings:\n",
      "[1] Standard Errors assume that the covariance matrix of the errors is correctly specified.\n",
      "[2] The condition number is large, 3.73e+04. This might indicate that there are\n",
      "strong multicollinearity or other numerical problems.\n"
     ]
    }
   ],
   "source": [
    "print(olsmodel.summary())"
   ]
  },
  {
   "cell_type": "code",
   "execution_count": 33,
   "metadata": {},
   "outputs": [],
   "source": [
    "from sklearn.preprocessing import StandardScaler"
   ]
  },
  {
   "cell_type": "code",
   "execution_count": 36,
   "metadata": {},
   "outputs": [],
   "source": [
    "trans = StandardScaler()"
   ]
  },
  {
   "cell_type": "code",
   "execution_count": 41,
   "metadata": {},
   "outputs": [],
   "source": [
    "X_trans = trans.fit_transform(X)"
   ]
  },
  {
   "cell_type": "code",
   "execution_count": 43,
   "metadata": {},
   "outputs": [
    {
     "data": {
      "text/html": [
       "<div>\n",
       "<style scoped>\n",
       "    .dataframe tbody tr th:only-of-type {\n",
       "        vertical-align: middle;\n",
       "    }\n",
       "\n",
       "    .dataframe tbody tr th {\n",
       "        vertical-align: top;\n",
       "    }\n",
       "\n",
       "    .dataframe thead th {\n",
       "        text-align: right;\n",
       "    }\n",
       "</style>\n",
       "<table border=\"1\" class=\"dataframe\">\n",
       "  <thead>\n",
       "    <tr style=\"text-align: right;\">\n",
       "      <th></th>\n",
       "      <th>USEnergy</th>\n",
       "      <th>USAutoFuelRate</th>\n",
       "      <th>USNuclear</th>\n",
       "      <th>USCoal</th>\n",
       "      <th>USDryGas</th>\n",
       "    </tr>\n",
       "  </thead>\n",
       "  <tbody>\n",
       "    <tr>\n",
       "      <td>0</td>\n",
       "      <td>74.3</td>\n",
       "      <td>13.4</td>\n",
       "      <td>83.5</td>\n",
       "      <td>598.6</td>\n",
       "      <td>21.7</td>\n",
       "    </tr>\n",
       "    <tr>\n",
       "      <td>1</td>\n",
       "      <td>72.5</td>\n",
       "      <td>13.6</td>\n",
       "      <td>114.0</td>\n",
       "      <td>610.0</td>\n",
       "      <td>20.7</td>\n",
       "    </tr>\n",
       "    <tr>\n",
       "      <td>2</td>\n",
       "      <td>70.5</td>\n",
       "      <td>14.0</td>\n",
       "      <td>172.5</td>\n",
       "      <td>654.6</td>\n",
       "      <td>19.2</td>\n",
       "    </tr>\n",
       "    <tr>\n",
       "      <td>3</td>\n",
       "      <td>74.4</td>\n",
       "      <td>13.8</td>\n",
       "      <td>191.1</td>\n",
       "      <td>684.9</td>\n",
       "      <td>19.1</td>\n",
       "    </tr>\n",
       "    <tr>\n",
       "      <td>4</td>\n",
       "      <td>76.3</td>\n",
       "      <td>14.1</td>\n",
       "      <td>250.9</td>\n",
       "      <td>697.2</td>\n",
       "      <td>19.2</td>\n",
       "    </tr>\n",
       "  </tbody>\n",
       "</table>\n",
       "</div>"
      ],
      "text/plain": [
       "   USEnergy  USAutoFuelRate  USNuclear  USCoal  USDryGas\n",
       "0      74.3            13.4       83.5   598.6      21.7\n",
       "1      72.5            13.6      114.0   610.0      20.7\n",
       "2      70.5            14.0      172.5   654.6      19.2\n",
       "3      74.4            13.8      191.1   684.9      19.1\n",
       "4      76.3            14.1      250.9   697.2      19.2"
      ]
     },
     "execution_count": 43,
     "metadata": {},
     "output_type": "execute_result"
    }
   ],
   "source": [
    "X.head()"
   ]
  },
  {
   "cell_type": "code",
   "execution_count": 45,
   "metadata": {},
   "outputs": [
    {
     "name": "stdout",
     "output_type": "stream",
     "text": [
      "17.75769230769231\n",
      "2.88557419962448\n"
     ]
    }
   ],
   "source": [
    "print(X.USAutoFuelRate.mean())\n",
    "print(X.USAutoFuelRate.std())"
   ]
  },
  {
   "cell_type": "code",
   "execution_count": 53,
   "metadata": {},
   "outputs": [
    {
     "name": "stdout",
     "output_type": "stream",
     "text": [
      "-2.0 2\n",
      "-1.0 2\n"
     ]
    }
   ],
   "source": [
    "#X-mean/SD\n",
    "\n",
    "print(np.round((13.4-17.75769230769231)/2.88557419962448),2)\n",
    "print(np.round((13.6-17.75769230769231)/2.88557419962448),2)"
   ]
  },
  {
   "cell_type": "code",
   "execution_count": 59,
   "metadata": {},
   "outputs": [],
   "source": [
    "data_trans = pd.DataFrame(X_trans, columns=X.columns)"
   ]
  },
  {
   "cell_type": "code",
   "execution_count": 60,
   "metadata": {},
   "outputs": [
    {
     "data": {
      "text/html": [
       "<div>\n",
       "<style scoped>\n",
       "    .dataframe tbody tr th:only-of-type {\n",
       "        vertical-align: middle;\n",
       "    }\n",
       "\n",
       "    .dataframe tbody tr th {\n",
       "        vertical-align: top;\n",
       "    }\n",
       "\n",
       "    .dataframe thead th {\n",
       "        text-align: right;\n",
       "    }\n",
       "</style>\n",
       "<table border=\"1\" class=\"dataframe\">\n",
       "  <thead>\n",
       "    <tr style=\"text-align: right;\">\n",
       "      <th></th>\n",
       "      <th>USEnergy</th>\n",
       "      <th>USAutoFuelRate</th>\n",
       "      <th>USNuclear</th>\n",
       "      <th>USCoal</th>\n",
       "      <th>USDryGas</th>\n",
       "    </tr>\n",
       "  </thead>\n",
       "  <tbody>\n",
       "    <tr>\n",
       "      <td>0</td>\n",
       "      <td>-0.746096</td>\n",
       "      <td>-1.540072</td>\n",
       "      <td>-1.746508</td>\n",
       "      <td>-1.839473</td>\n",
       "      <td>2.517376</td>\n",
       "    </tr>\n",
       "    <tr>\n",
       "      <td>1</td>\n",
       "      <td>-1.044535</td>\n",
       "      <td>-1.469389</td>\n",
       "      <td>-1.585695</td>\n",
       "      <td>-1.764004</td>\n",
       "      <td>1.760708</td>\n",
       "    </tr>\n",
       "    <tr>\n",
       "      <td>2</td>\n",
       "      <td>-1.376133</td>\n",
       "      <td>-1.328023</td>\n",
       "      <td>-1.277252</td>\n",
       "      <td>-1.468747</td>\n",
       "      <td>0.625706</td>\n",
       "    </tr>\n",
       "    <tr>\n",
       "      <td>3</td>\n",
       "      <td>-0.729516</td>\n",
       "      <td>-1.398706</td>\n",
       "      <td>-1.179183</td>\n",
       "      <td>-1.268158</td>\n",
       "      <td>0.550039</td>\n",
       "    </tr>\n",
       "    <tr>\n",
       "      <td>4</td>\n",
       "      <td>-0.414498</td>\n",
       "      <td>-1.292682</td>\n",
       "      <td>-0.863885</td>\n",
       "      <td>-1.186730</td>\n",
       "      <td>0.625706</td>\n",
       "    </tr>\n",
       "  </tbody>\n",
       "</table>\n",
       "</div>"
      ],
      "text/plain": [
       "   USEnergy  USAutoFuelRate  USNuclear    USCoal  USDryGas\n",
       "0 -0.746096       -1.540072  -1.746508 -1.839473  2.517376\n",
       "1 -1.044535       -1.469389  -1.585695 -1.764004  1.760708\n",
       "2 -1.376133       -1.328023  -1.277252 -1.468747  0.625706\n",
       "3 -0.729516       -1.398706  -1.179183 -1.268158  0.550039\n",
       "4 -0.414498       -1.292682  -0.863885 -1.186730  0.625706"
      ]
     },
     "execution_count": 60,
     "metadata": {},
     "output_type": "execute_result"
    }
   ],
   "source": [
    "data_trans.head()"
   ]
  },
  {
   "cell_type": "code",
   "execution_count": 62,
   "metadata": {},
   "outputs": [
    {
     "data": {
      "text/html": [
       "<div>\n",
       "<style scoped>\n",
       "    .dataframe tbody tr th:only-of-type {\n",
       "        vertical-align: middle;\n",
       "    }\n",
       "\n",
       "    .dataframe tbody tr th {\n",
       "        vertical-align: top;\n",
       "    }\n",
       "\n",
       "    .dataframe thead th {\n",
       "        text-align: right;\n",
       "    }\n",
       "</style>\n",
       "<table border=\"1\" class=\"dataframe\">\n",
       "  <thead>\n",
       "    <tr style=\"text-align: right;\">\n",
       "      <th></th>\n",
       "      <th>USEnergy</th>\n",
       "      <th>USAutoFuelRate</th>\n",
       "      <th>USNuclear</th>\n",
       "      <th>USCoal</th>\n",
       "      <th>USDryGas</th>\n",
       "    </tr>\n",
       "  </thead>\n",
       "  <tbody>\n",
       "    <tr>\n",
       "      <td>count</td>\n",
       "      <td>26.00</td>\n",
       "      <td>26.00</td>\n",
       "      <td>26.00</td>\n",
       "      <td>26.00</td>\n",
       "      <td>26.00</td>\n",
       "    </tr>\n",
       "    <tr>\n",
       "      <td>mean</td>\n",
       "      <td>0.00</td>\n",
       "      <td>-0.00</td>\n",
       "      <td>0.00</td>\n",
       "      <td>0.00</td>\n",
       "      <td>0.00</td>\n",
       "    </tr>\n",
       "    <tr>\n",
       "      <td>std</td>\n",
       "      <td>1.02</td>\n",
       "      <td>1.02</td>\n",
       "      <td>1.02</td>\n",
       "      <td>1.02</td>\n",
       "      <td>1.02</td>\n",
       "    </tr>\n",
       "    <tr>\n",
       "      <td>min</td>\n",
       "      <td>-1.38</td>\n",
       "      <td>-1.54</td>\n",
       "      <td>-1.75</td>\n",
       "      <td>-1.84</td>\n",
       "      <td>-1.72</td>\n",
       "    </tr>\n",
       "    <tr>\n",
       "      <td>25%</td>\n",
       "      <td>-0.77</td>\n",
       "      <td>-0.99</td>\n",
       "      <td>-0.82</td>\n",
       "      <td>-0.63</td>\n",
       "      <td>-0.62</td>\n",
       "    </tr>\n",
       "    <tr>\n",
       "      <td>50%</td>\n",
       "      <td>-0.22</td>\n",
       "      <td>-0.11</td>\n",
       "      <td>-0.08</td>\n",
       "      <td>0.11</td>\n",
       "      <td>0.25</td>\n",
       "    </tr>\n",
       "    <tr>\n",
       "      <td>75%</td>\n",
       "      <td>0.53</td>\n",
       "      <td>1.06</td>\n",
       "      <td>1.04</td>\n",
       "      <td>0.80</td>\n",
       "      <td>0.61</td>\n",
       "    </tr>\n",
       "    <tr>\n",
       "      <td>max</td>\n",
       "      <td>1.96</td>\n",
       "      <td>1.36</td>\n",
       "      <td>1.37</td>\n",
       "      <td>1.54</td>\n",
       "      <td>2.52</td>\n",
       "    </tr>\n",
       "  </tbody>\n",
       "</table>\n",
       "</div>"
      ],
      "text/plain": [
       "       USEnergy  USAutoFuelRate  USNuclear  USCoal  USDryGas\n",
       "count     26.00           26.00      26.00   26.00     26.00\n",
       "mean       0.00           -0.00       0.00    0.00      0.00\n",
       "std        1.02            1.02       1.02    1.02      1.02\n",
       "min       -1.38           -1.54      -1.75   -1.84     -1.72\n",
       "25%       -0.77           -0.99      -0.82   -0.63     -0.62\n",
       "50%       -0.22           -0.11      -0.08    0.11      0.25\n",
       "75%        0.53            1.06       1.04    0.80      0.61\n",
       "max        1.96            1.36       1.37    1.54      2.52"
      ]
     },
     "execution_count": 62,
     "metadata": {},
     "output_type": "execute_result"
    }
   ],
   "source": [
    "np.round(data_trans.describe(),2)"
   ]
  },
  {
   "cell_type": "code",
   "execution_count": 63,
   "metadata": {},
   "outputs": [
    {
     "data": {
      "text/html": [
       "<div>\n",
       "<style scoped>\n",
       "    .dataframe tbody tr th:only-of-type {\n",
       "        vertical-align: middle;\n",
       "    }\n",
       "\n",
       "    .dataframe tbody tr th {\n",
       "        vertical-align: top;\n",
       "    }\n",
       "\n",
       "    .dataframe thead th {\n",
       "        text-align: right;\n",
       "    }\n",
       "</style>\n",
       "<table border=\"1\" class=\"dataframe\">\n",
       "  <thead>\n",
       "    <tr style=\"text-align: right;\">\n",
       "      <th></th>\n",
       "      <th>USEnergy</th>\n",
       "      <th>USAutoFuelRate</th>\n",
       "      <th>USNuclear</th>\n",
       "      <th>USCoal</th>\n",
       "      <th>USDryGas</th>\n",
       "    </tr>\n",
       "  </thead>\n",
       "  <tbody>\n",
       "    <tr>\n",
       "      <td>count</td>\n",
       "      <td>26.000000</td>\n",
       "      <td>26.000000</td>\n",
       "      <td>26.000000</td>\n",
       "      <td>26.000000</td>\n",
       "      <td>26.000000</td>\n",
       "    </tr>\n",
       "    <tr>\n",
       "      <td>mean</td>\n",
       "      <td>78.800000</td>\n",
       "      <td>17.757692</td>\n",
       "      <td>414.746154</td>\n",
       "      <td>876.461538</td>\n",
       "      <td>18.373077</td>\n",
       "    </tr>\n",
       "    <tr>\n",
       "      <td>std</td>\n",
       "      <td>6.150837</td>\n",
       "      <td>2.885574</td>\n",
       "      <td>193.418064</td>\n",
       "      <td>154.046466</td>\n",
       "      <td>1.347756</td>\n",
       "    </tr>\n",
       "    <tr>\n",
       "      <td>min</td>\n",
       "      <td>70.500000</td>\n",
       "      <td>13.400000</td>\n",
       "      <td>83.500000</td>\n",
       "      <td>598.600000</td>\n",
       "      <td>16.100000</td>\n",
       "    </tr>\n",
       "    <tr>\n",
       "      <td>25%</td>\n",
       "      <td>74.150000</td>\n",
       "      <td>14.950000</td>\n",
       "      <td>259.575000</td>\n",
       "      <td>781.350000</td>\n",
       "      <td>17.550000</td>\n",
       "    </tr>\n",
       "    <tr>\n",
       "      <td>50%</td>\n",
       "      <td>77.500000</td>\n",
       "      <td>17.450000</td>\n",
       "      <td>398.850000</td>\n",
       "      <td>893.100000</td>\n",
       "      <td>18.700000</td>\n",
       "    </tr>\n",
       "    <tr>\n",
       "      <td>75%</td>\n",
       "      <td>82.000000</td>\n",
       "      <td>20.750000</td>\n",
       "      <td>612.025000</td>\n",
       "      <td>997.125000</td>\n",
       "      <td>19.175000</td>\n",
       "    </tr>\n",
       "    <tr>\n",
       "      <td>max</td>\n",
       "      <td>90.600000</td>\n",
       "      <td>21.600000</td>\n",
       "      <td>674.700000</td>\n",
       "      <td>1109.800000</td>\n",
       "      <td>21.700000</td>\n",
       "    </tr>\n",
       "  </tbody>\n",
       "</table>\n",
       "</div>"
      ],
      "text/plain": [
       "        USEnergy  USAutoFuelRate   USNuclear       USCoal   USDryGas\n",
       "count  26.000000       26.000000   26.000000    26.000000  26.000000\n",
       "mean   78.800000       17.757692  414.746154   876.461538  18.373077\n",
       "std     6.150837        2.885574  193.418064   154.046466   1.347756\n",
       "min    70.500000       13.400000   83.500000   598.600000  16.100000\n",
       "25%    74.150000       14.950000  259.575000   781.350000  17.550000\n",
       "50%    77.500000       17.450000  398.850000   893.100000  18.700000\n",
       "75%    82.000000       20.750000  612.025000   997.125000  19.175000\n",
       "max    90.600000       21.600000  674.700000  1109.800000  21.700000"
      ]
     },
     "execution_count": 63,
     "metadata": {},
     "output_type": "execute_result"
    }
   ],
   "source": [
    "X.describe()"
   ]
  },
  {
   "cell_type": "code",
   "execution_count": 65,
   "metadata": {},
   "outputs": [],
   "source": [
    "vif = pd.DataFrame()"
   ]
  },
  {
   "cell_type": "code",
   "execution_count": 66,
   "metadata": {},
   "outputs": [],
   "source": [
    "vif['varibales']= X.columns"
   ]
  },
  {
   "cell_type": "code",
   "execution_count": 67,
   "metadata": {},
   "outputs": [
    {
     "data": {
      "text/html": [
       "<div>\n",
       "<style scoped>\n",
       "    .dataframe tbody tr th:only-of-type {\n",
       "        vertical-align: middle;\n",
       "    }\n",
       "\n",
       "    .dataframe tbody tr th {\n",
       "        vertical-align: top;\n",
       "    }\n",
       "\n",
       "    .dataframe thead th {\n",
       "        text-align: right;\n",
       "    }\n",
       "</style>\n",
       "<table border=\"1\" class=\"dataframe\">\n",
       "  <thead>\n",
       "    <tr style=\"text-align: right;\">\n",
       "      <th></th>\n",
       "      <th>varibales</th>\n",
       "    </tr>\n",
       "  </thead>\n",
       "  <tbody>\n",
       "    <tr>\n",
       "      <td>0</td>\n",
       "      <td>USEnergy</td>\n",
       "    </tr>\n",
       "    <tr>\n",
       "      <td>1</td>\n",
       "      <td>USAutoFuelRate</td>\n",
       "    </tr>\n",
       "    <tr>\n",
       "      <td>2</td>\n",
       "      <td>USNuclear</td>\n",
       "    </tr>\n",
       "    <tr>\n",
       "      <td>3</td>\n",
       "      <td>USCoal</td>\n",
       "    </tr>\n",
       "    <tr>\n",
       "      <td>4</td>\n",
       "      <td>USDryGas</td>\n",
       "    </tr>\n",
       "  </tbody>\n",
       "</table>\n",
       "</div>"
      ],
      "text/plain": [
       "        varibales\n",
       "0        USEnergy\n",
       "1  USAutoFuelRate\n",
       "2       USNuclear\n",
       "3          USCoal\n",
       "4        USDryGas"
      ]
     },
     "execution_count": 67,
     "metadata": {},
     "output_type": "execute_result"
    }
   ],
   "source": [
    "vif"
   ]
  },
  {
   "cell_type": "code",
   "execution_count": 75,
   "metadata": {},
   "outputs": [],
   "source": [
    "from statsmodels.stats.outliers_influence import variance_inflation_factor"
   ]
  },
  {
   "cell_type": "code",
   "execution_count": 78,
   "metadata": {},
   "outputs": [],
   "source": [
    "vif['VIF factor'] = [variance_inflation_factor(X_trans, exog_idx = i) for i in range(5)]"
   ]
  },
  {
   "cell_type": "code",
   "execution_count": 79,
   "metadata": {},
   "outputs": [
    {
     "data": {
      "text/html": [
       "<div>\n",
       "<style scoped>\n",
       "    .dataframe tbody tr th:only-of-type {\n",
       "        vertical-align: middle;\n",
       "    }\n",
       "\n",
       "    .dataframe tbody tr th {\n",
       "        vertical-align: top;\n",
       "    }\n",
       "\n",
       "    .dataframe thead th {\n",
       "        text-align: right;\n",
       "    }\n",
       "</style>\n",
       "<table border=\"1\" class=\"dataframe\">\n",
       "  <thead>\n",
       "    <tr style=\"text-align: right;\">\n",
       "      <th></th>\n",
       "      <th>varibales</th>\n",
       "      <th>VIF factor</th>\n",
       "    </tr>\n",
       "  </thead>\n",
       "  <tbody>\n",
       "    <tr>\n",
       "      <td>0</td>\n",
       "      <td>USEnergy</td>\n",
       "      <td>20.822780</td>\n",
       "    </tr>\n",
       "    <tr>\n",
       "      <td>1</td>\n",
       "      <td>USAutoFuelRate</td>\n",
       "      <td>42.494049</td>\n",
       "    </tr>\n",
       "    <tr>\n",
       "      <td>2</td>\n",
       "      <td>USNuclear</td>\n",
       "      <td>61.549771</td>\n",
       "    </tr>\n",
       "    <tr>\n",
       "      <td>3</td>\n",
       "      <td>USCoal</td>\n",
       "      <td>21.346305</td>\n",
       "    </tr>\n",
       "    <tr>\n",
       "      <td>4</td>\n",
       "      <td>USDryGas</td>\n",
       "      <td>6.188241</td>\n",
       "    </tr>\n",
       "  </tbody>\n",
       "</table>\n",
       "</div>"
      ],
      "text/plain": [
       "        varibales  VIF factor\n",
       "0        USEnergy   20.822780\n",
       "1  USAutoFuelRate   42.494049\n",
       "2       USNuclear   61.549771\n",
       "3          USCoal   21.346305\n",
       "4        USDryGas    6.188241"
      ]
     },
     "execution_count": 79,
     "metadata": {},
     "output_type": "execute_result"
    }
   ],
   "source": [
    "vif"
   ]
  },
  {
   "cell_type": "markdown",
   "metadata": {},
   "source": [
    "## Feature Selection"
   ]
  },
  {
   "cell_type": "code",
   "execution_count": 80,
   "metadata": {},
   "outputs": [
    {
     "data": {
      "text/plain": [
       "Intercept         0.764250\n",
       "USEnergy          0.000159\n",
       "USAutoFuelRate    0.196018\n",
       "USNuclear         0.514197\n",
       "USCoal            0.192596\n",
       "USDryGas          0.752753\n",
       "dtype: float64"
      ]
     },
     "execution_count": 80,
     "metadata": {},
     "output_type": "execute_result"
    }
   ],
   "source": [
    "olsmodel.pvalues"
   ]
  },
  {
   "cell_type": "code",
   "execution_count": 81,
   "metadata": {},
   "outputs": [],
   "source": [
    "features = X.columns"
   ]
  },
  {
   "cell_type": "code",
   "execution_count": 86,
   "metadata": {},
   "outputs": [
    {
     "name": "stdout",
     "output_type": "stream",
     "text": [
      "WorldOil~ USEnergy \n",
      "p-values: 0.0 \n",
      "-------------------------\n",
      "WorldOil~ USAutoFuelRate \n",
      "p-values: 0.0 \n",
      "-------------------------\n",
      "WorldOil~ USNuclear \n",
      "p-values: 0.0 \n",
      "-------------------------\n",
      "WorldOil~ USCoal \n",
      "p-values: 0.0 \n",
      "-------------------------\n",
      "WorldOil~ USDryGas \n",
      "p-values: 0.29 \n",
      "-------------------------\n"
     ]
    }
   ],
   "source": [
    "for var in features:\n",
    "    slr = smf.ols(\"WorldOil~ {}\".format(var), data=data).fit() # y = mx+c\n",
    "    print(\"WorldOil~ {} {} {} {}\".format(var,\"\\np-values:\",np.round(slr.pvalues[1],2),\"\\n-------------------------\"))"
   ]
  },
  {
   "cell_type": "markdown",
   "metadata": {},
   "source": [
    "p value of USDryGas is greater than 0.05"
   ]
  },
  {
   "cell_type": "code",
   "execution_count": 89,
   "metadata": {},
   "outputs": [],
   "source": [
    "features = list(data.columns[2:5])"
   ]
  },
  {
   "cell_type": "code",
   "execution_count": 95,
   "metadata": {},
   "outputs": [
    {
     "name": "stdout",
     "output_type": "stream",
     "text": [
      "WorldOil~ USEnergy + USAutoFuelRate \n",
      "pvalues: Intercept         0.05381\n",
      "USEnergy          0.00000\n",
      "USAutoFuelRate    0.00106\n",
      "dtype: float64 \n",
      "********************\n",
      "WorldOil~ USEnergy + USNuclear \n",
      "pvalues: Intercept    0.69335\n",
      "USEnergy     0.00000\n",
      "USNuclear    0.00152\n",
      "dtype: float64 \n",
      "********************\n",
      "WorldOil~ USEnergy + USCoal \n",
      "pvalues: Intercept    0.05653\n",
      "USEnergy     0.00000\n",
      "USCoal       0.02273\n",
      "dtype: float64 \n",
      "********************\n"
     ]
    }
   ],
   "source": [
    "for var in features:\n",
    "    slr1 = smf.ols(\"WorldOil~ USEnergy + {}\".format(var), data = data).fit()\n",
    "    print(\"WorldOil~ USEnergy + {} {} {} {}\".format(var, \"\\npvalues:\",np.round(slr1.pvalues,5),\"\\n********************\"))"
   ]
  },
  {
   "cell_type": "code",
   "execution_count": 102,
   "metadata": {},
   "outputs": [],
   "source": [
    "features = data.columns[3:5]"
   ]
  },
  {
   "cell_type": "code",
   "execution_count": 103,
   "metadata": {},
   "outputs": [
    {
     "data": {
      "text/plain": [
       "Index(['USNuclear', 'USCoal'], dtype='object')"
      ]
     },
     "execution_count": 103,
     "metadata": {},
     "output_type": "execute_result"
    }
   ],
   "source": [
    "features"
   ]
  },
  {
   "cell_type": "code",
   "execution_count": 110,
   "metadata": {},
   "outputs": [
    {
     "name": "stdout",
     "output_type": "stream",
     "text": [
      "WorldOil~ USEnergy + USAutoFuelRate + USNuclear \n",
      "pvalues: Intercept         0.64706\n",
      "USEnergy          0.00000\n",
      "USAutoFuelRate    0.36497\n",
      "USNuclear         0.67210\n",
      "dtype: float64 \n",
      "###########################\n",
      "WorldOil~ USEnergy + USAutoFuelRate + USCoal \n",
      "pvalues: Intercept         0.02313\n",
      "USEnergy          0.00000\n",
      "USAutoFuelRate    0.00479\n",
      "USCoal            0.10225\n",
      "dtype: float64 \n",
      "###########################\n"
     ]
    }
   ],
   "source": [
    "for var in features:\n",
    "    slr2 = smf.ols(\"WorldOil~ USEnergy + USAutoFuelRate + {}\".format(var), data= data).fit()\n",
    "    print(\"WorldOil~ USEnergy + USAutoFuelRate + {} {} {} {}\".format(var, '\\npvalues:', np.round(slr2.pvalues,5), \"\\n###########################\"))"
   ]
  },
  {
   "cell_type": "markdown",
   "metadata": {},
   "source": [
    "WorldOil~ USEnergy + USAutoFuelRate \n",
    "pvalues: Intercept         0.05381\n",
    "USEnergy          0.00000\n",
    "USAutoFuelRate    0.00106\n",
    "dtype: float64 "
   ]
  },
  {
   "cell_type": "markdown",
   "metadata": {},
   "source": [
    "## Backward Elemination"
   ]
  },
  {
   "cell_type": "code",
   "execution_count": 113,
   "metadata": {},
   "outputs": [
    {
     "name": "stdout",
     "output_type": "stream",
     "text": [
      "                            OLS Regression Results                            \n",
      "==============================================================================\n",
      "Dep. Variable:               WorldOil   R-squared:                       0.921\n",
      "Model:                            OLS   Adj. R-squared:                  0.901\n",
      "Method:                 Least Squares   F-statistic:                     46.62\n",
      "Date:                Fri, 08 May 2020   Prob (F-statistic):           2.41e-10\n",
      "Time:                        12:10:07   Log-Likelihood:                -38.539\n",
      "No. Observations:                  26   AIC:                             89.08\n",
      "Df Residuals:                      20   BIC:                             96.63\n",
      "Df Model:                           5                                         \n",
      "Covariance Type:            nonrobust                                         \n",
      "==================================================================================\n",
      "                     coef    std err          t      P>|t|      [0.025      0.975]\n",
      "----------------------------------------------------------------------------------\n",
      "Intercept          2.7085      8.909      0.304      0.764     -15.875      21.292\n",
      "USEnergy           0.8357      0.180      4.637      0.000       0.460       1.212\n",
      "USAutoFuelRate    -0.7341      0.549     -1.338      0.196      -1.879       0.411\n",
      "USNuclear         -0.0065      0.010     -0.664      0.514      -0.027       0.014\n",
      "USCoal             0.0098      0.007      1.348      0.193      -0.005       0.025\n",
      "USDryGas          -0.1432      0.448     -0.319      0.753      -1.079       0.792\n",
      "==============================================================================\n",
      "Omnibus:                        3.473   Durbin-Watson:                   1.096\n",
      "Prob(Omnibus):                  0.176   Jarque-Bera (JB):                1.450\n",
      "Skew:                           0.104   Prob(JB):                        0.484\n",
      "Kurtosis:                       1.862   Cond. No.                     3.73e+04\n",
      "==============================================================================\n",
      "\n",
      "Warnings:\n",
      "[1] Standard Errors assume that the covariance matrix of the errors is correctly specified.\n",
      "[2] The condition number is large, 3.73e+04. This might indicate that there are\n",
      "strong multicollinearity or other numerical problems.\n"
     ]
    }
   ],
   "source": [
    "print(olsmodel.summary())"
   ]
  },
  {
   "cell_type": "code",
   "execution_count": 114,
   "metadata": {},
   "outputs": [
    {
     "data": {
      "text/plain": [
       "Index(['USEnergy', 'USAutoFuelRate', 'USNuclear', 'USCoal', 'USDryGas'], dtype='object')"
      ]
     },
     "execution_count": 114,
     "metadata": {},
     "output_type": "execute_result"
    }
   ],
   "source": [
    "X.columns"
   ]
  },
  {
   "cell_type": "code",
   "execution_count": 115,
   "metadata": {},
   "outputs": [
    {
     "data": {
      "text/plain": [
       "'USEnergy+USAutoFuelRate+USNuclear+USCoal+USDryGas'"
      ]
     },
     "execution_count": 115,
     "metadata": {},
     "output_type": "execute_result"
    }
   ],
   "source": [
    "'+'.join(X.columns)"
   ]
  },
  {
   "cell_type": "code",
   "execution_count": 120,
   "metadata": {},
   "outputs": [],
   "source": [
    "olsmodel1 = smf.ols(formula = 'WorldOil ~ USEnergy+USAutoFuelRate+USNuclear+USCoal', data=data).fit()"
   ]
  },
  {
   "cell_type": "code",
   "execution_count": 124,
   "metadata": {},
   "outputs": [
    {
     "name": "stdout",
     "output_type": "stream",
     "text": [
      "                            OLS Regression Results                            \n",
      "==============================================================================\n",
      "Dep. Variable:               WorldOil   R-squared:                       0.921\n",
      "Model:                            OLS   Adj. R-squared:                  0.905\n",
      "Method:                 Least Squares   F-statistic:                     60.85\n",
      "Date:                Fri, 08 May 2020   Prob (F-statistic):           3.00e-11\n",
      "Time:                        12:35:38   Log-Likelihood:                -38.605\n",
      "No. Observations:                  26   AIC:                             87.21\n",
      "Df Residuals:                      21   BIC:                             93.50\n",
      "Df Model:                           4                                         \n",
      "Covariance Type:            nonrobust                                         \n",
      "==================================================================================\n",
      "                     coef    std err          t      P>|t|      [0.025      0.975]\n",
      "----------------------------------------------------------------------------------\n",
      "Intercept          3.8260      8.016      0.477      0.638     -12.844      20.496\n",
      "USEnergy           0.7843      0.080      9.854      0.000       0.619       0.950\n",
      "USAutoFuelRate    -0.8253      0.459     -1.800      0.086      -1.779       0.128\n",
      "USNuclear         -0.0043      0.007     -0.642      0.528      -0.018       0.010\n",
      "USCoal             0.0109      0.006      1.744      0.096      -0.002       0.024\n",
      "==============================================================================\n",
      "Omnibus:                        4.266   Durbin-Watson:                   1.128\n",
      "Prob(Omnibus):                  0.118   Jarque-Bera (JB):                1.570\n",
      "Skew:                           0.067   Prob(JB):                        0.456\n",
      "Kurtosis:                       1.804   Cond. No.                     3.43e+04\n",
      "==============================================================================\n",
      "\n",
      "Warnings:\n",
      "[1] Standard Errors assume that the covariance matrix of the errors is correctly specified.\n",
      "[2] The condition number is large, 3.43e+04. This might indicate that there are\n",
      "strong multicollinearity or other numerical problems.\n"
     ]
    }
   ],
   "source": [
    "print(olsmodel1.summary())\n"
   ]
  },
  {
   "cell_type": "code",
   "execution_count": 126,
   "metadata": {},
   "outputs": [],
   "source": [
    "olsmodel2 = smf.ols(formula = 'WorldOil ~ USEnergy+USAutoFuelRate+USCoal', data=data).fit()"
   ]
  },
  {
   "cell_type": "code",
   "execution_count": 128,
   "metadata": {},
   "outputs": [
    {
     "name": "stdout",
     "output_type": "stream",
     "text": [
      "                            OLS Regression Results                            \n",
      "==============================================================================\n",
      "Dep. Variable:               WorldOil   R-squared:                       0.919\n",
      "Model:                            OLS   Adj. R-squared:                  0.908\n",
      "Method:                 Least Squares   F-statistic:                     83.21\n",
      "Date:                Fri, 08 May 2020   Prob (F-statistic):           3.66e-12\n",
      "Time:                        12:39:55   Log-Likelihood:                -38.858\n",
      "No. Observations:                  26   AIC:                             85.72\n",
      "Df Residuals:                      22   BIC:                             90.75\n",
      "Df Model:                           3                                         \n",
      "Covariance Type:            nonrobust                                         \n",
      "==================================================================================\n",
      "                     coef    std err          t      P>|t|      [0.025      0.975]\n",
      "----------------------------------------------------------------------------------\n",
      "Intercept          8.4541      3.463      2.441      0.023       1.273      15.635\n",
      "USEnergy           0.7539      0.063     11.936      0.000       0.623       0.885\n",
      "USAutoFuelRate    -1.0283      0.328     -3.137      0.005      -1.708      -0.349\n",
      "USCoal             0.0105      0.006      1.705      0.102      -0.002       0.023\n",
      "==============================================================================\n",
      "Omnibus:                        4.821   Durbin-Watson:                   1.110\n",
      "Prob(Omnibus):                  0.090   Jarque-Bera (JB):                1.689\n",
      "Skew:                           0.117   Prob(JB):                        0.430\n",
      "Kurtosis:                       1.774   Cond. No.                     1.35e+04\n",
      "==============================================================================\n",
      "\n",
      "Warnings:\n",
      "[1] Standard Errors assume that the covariance matrix of the errors is correctly specified.\n",
      "[2] The condition number is large, 1.35e+04. This might indicate that there are\n",
      "strong multicollinearity or other numerical problems.\n"
     ]
    }
   ],
   "source": [
    "print(olsmodel2.summary())"
   ]
  },
  {
   "cell_type": "code",
   "execution_count": 130,
   "metadata": {},
   "outputs": [],
   "source": [
    "olsmodel3 = smf.ols(formula = 'WorldOil ~ USEnergy+USAutoFuelRate', data=data).fit()"
   ]
  },
  {
   "cell_type": "code",
   "execution_count": 132,
   "metadata": {},
   "outputs": [
    {
     "name": "stdout",
     "output_type": "stream",
     "text": [
      "                            OLS Regression Results                            \n",
      "==============================================================================\n",
      "Dep. Variable:               WorldOil   R-squared:                       0.908\n",
      "Model:                            OLS   Adj. R-squared:                  0.900\n",
      "Method:                 Least Squares   F-statistic:                     113.9\n",
      "Date:                Fri, 08 May 2020   Prob (F-statistic):           1.17e-12\n",
      "Time:                        12:41:16   Log-Likelihood:                -40.471\n",
      "No. Observations:                  26   AIC:                             86.94\n",
      "Df Residuals:                      23   BIC:                             90.72\n",
      "Df Model:                           2                                         \n",
      "Covariance Type:            nonrobust                                         \n",
      "==================================================================================\n",
      "                     coef    std err          t      P>|t|      [0.025      0.975]\n",
      "----------------------------------------------------------------------------------\n",
      "Intercept          7.1403      3.513      2.032      0.054      -0.127      14.408\n",
      "USEnergy           0.7720      0.065     11.913      0.000       0.638       0.906\n",
      "USAutoFuelRate    -0.5173      0.138     -3.745      0.001      -0.803      -0.232\n",
      "==============================================================================\n",
      "Omnibus:                        1.657   Durbin-Watson:                   0.968\n",
      "Prob(Omnibus):                  0.437   Jarque-Bera (JB):                1.121\n",
      "Skew:                           0.215   Prob(JB):                        0.571\n",
      "Kurtosis:                       2.078   Cond. No.                     1.19e+03\n",
      "==============================================================================\n",
      "\n",
      "Warnings:\n",
      "[1] Standard Errors assume that the covariance matrix of the errors is correctly specified.\n",
      "[2] The condition number is large, 1.19e+03. This might indicate that there are\n",
      "strong multicollinearity or other numerical problems.\n"
     ]
    }
   ],
   "source": [
    "print(olsmodel3.summary())"
   ]
  },
  {
   "cell_type": "code",
   "execution_count": 134,
   "metadata": {},
   "outputs": [
    {
     "data": {
      "text/html": [
       "<div>\n",
       "<style scoped>\n",
       "    .dataframe tbody tr th:only-of-type {\n",
       "        vertical-align: middle;\n",
       "    }\n",
       "\n",
       "    .dataframe tbody tr th {\n",
       "        vertical-align: top;\n",
       "    }\n",
       "\n",
       "    .dataframe thead th {\n",
       "        text-align: right;\n",
       "    }\n",
       "</style>\n",
       "<table border=\"1\" class=\"dataframe\">\n",
       "  <thead>\n",
       "    <tr style=\"text-align: right;\">\n",
       "      <th></th>\n",
       "      <th>USEnergy</th>\n",
       "      <th>USAutoFuelRate</th>\n",
       "    </tr>\n",
       "  </thead>\n",
       "  <tbody>\n",
       "    <tr>\n",
       "      <td>0</td>\n",
       "      <td>74.3</td>\n",
       "      <td>13.4</td>\n",
       "    </tr>\n",
       "    <tr>\n",
       "      <td>1</td>\n",
       "      <td>72.5</td>\n",
       "      <td>13.6</td>\n",
       "    </tr>\n",
       "    <tr>\n",
       "      <td>2</td>\n",
       "      <td>70.5</td>\n",
       "      <td>14.0</td>\n",
       "    </tr>\n",
       "    <tr>\n",
       "      <td>3</td>\n",
       "      <td>74.4</td>\n",
       "      <td>13.8</td>\n",
       "    </tr>\n",
       "    <tr>\n",
       "      <td>4</td>\n",
       "      <td>76.3</td>\n",
       "      <td>14.1</td>\n",
       "    </tr>\n",
       "  </tbody>\n",
       "</table>\n",
       "</div>"
      ],
      "text/plain": [
       "   USEnergy  USAutoFuelRate\n",
       "0      74.3            13.4\n",
       "1      72.5            13.6\n",
       "2      70.5            14.0\n",
       "3      74.4            13.8\n",
       "4      76.3            14.1"
      ]
     },
     "execution_count": 134,
     "metadata": {},
     "output_type": "execute_result"
    }
   ],
   "source": [
    "X.iloc[:,0:2].head()"
   ]
  },
  {
   "cell_type": "code",
   "execution_count": 149,
   "metadata": {},
   "outputs": [],
   "source": [
    "X_final = X.iloc[:,0:2]"
   ]
  },
  {
   "cell_type": "code",
   "execution_count": 150,
   "metadata": {},
   "outputs": [],
   "source": [
    "X_final_trans = trans.fit_transform(X_final)"
   ]
  },
  {
   "cell_type": "code",
   "execution_count": 151,
   "metadata": {},
   "outputs": [],
   "source": [
    "vif_final = pd.DataFrame()"
   ]
  },
  {
   "cell_type": "code",
   "execution_count": 152,
   "metadata": {},
   "outputs": [],
   "source": [
    "vif_final['Variables'] = X_final.columns"
   ]
  },
  {
   "cell_type": "code",
   "execution_count": 153,
   "metadata": {},
   "outputs": [
    {
     "data": {
      "text/html": [
       "<div>\n",
       "<style scoped>\n",
       "    .dataframe tbody tr th:only-of-type {\n",
       "        vertical-align: middle;\n",
       "    }\n",
       "\n",
       "    .dataframe tbody tr th {\n",
       "        vertical-align: top;\n",
       "    }\n",
       "\n",
       "    .dataframe thead th {\n",
       "        text-align: right;\n",
       "    }\n",
       "</style>\n",
       "<table border=\"1\" class=\"dataframe\">\n",
       "  <thead>\n",
       "    <tr style=\"text-align: right;\">\n",
       "      <th></th>\n",
       "      <th>Variables</th>\n",
       "    </tr>\n",
       "  </thead>\n",
       "  <tbody>\n",
       "    <tr>\n",
       "      <td>0</td>\n",
       "      <td>USEnergy</td>\n",
       "    </tr>\n",
       "    <tr>\n",
       "      <td>1</td>\n",
       "      <td>USAutoFuelRate</td>\n",
       "    </tr>\n",
       "  </tbody>\n",
       "</table>\n",
       "</div>"
      ],
      "text/plain": [
       "        Variables\n",
       "0        USEnergy\n",
       "1  USAutoFuelRate"
      ]
     },
     "execution_count": 153,
     "metadata": {},
     "output_type": "execute_result"
    }
   ],
   "source": [
    "vif_final"
   ]
  },
  {
   "cell_type": "code",
   "execution_count": 156,
   "metadata": {},
   "outputs": [],
   "source": [
    "vif_final['vif factor'] = [variance_inflation_factor(X_final_trans, exog_idx= i) for i in range(2)]"
   ]
  },
  {
   "cell_type": "code",
   "execution_count": 157,
   "metadata": {},
   "outputs": [
    {
     "data": {
      "text/html": [
       "<div>\n",
       "<style scoped>\n",
       "    .dataframe tbody tr th:only-of-type {\n",
       "        vertical-align: middle;\n",
       "    }\n",
       "\n",
       "    .dataframe tbody tr th {\n",
       "        vertical-align: top;\n",
       "    }\n",
       "\n",
       "    .dataframe thead th {\n",
       "        text-align: right;\n",
       "    }\n",
       "</style>\n",
       "<table border=\"1\" class=\"dataframe\">\n",
       "  <thead>\n",
       "    <tr style=\"text-align: right;\">\n",
       "      <th></th>\n",
       "      <th>Variables</th>\n",
       "      <th>vif factor</th>\n",
       "    </tr>\n",
       "  </thead>\n",
       "  <tbody>\n",
       "    <tr>\n",
       "      <td>0</td>\n",
       "      <td>USEnergy</td>\n",
       "      <td>2.667949</td>\n",
       "    </tr>\n",
       "    <tr>\n",
       "      <td>1</td>\n",
       "      <td>USAutoFuelRate</td>\n",
       "      <td>2.667949</td>\n",
       "    </tr>\n",
       "  </tbody>\n",
       "</table>\n",
       "</div>"
      ],
      "text/plain": [
       "        Variables  vif factor\n",
       "0        USEnergy    2.667949\n",
       "1  USAutoFuelRate    2.667949"
      ]
     },
     "execution_count": 157,
     "metadata": {},
     "output_type": "execute_result"
    }
   ],
   "source": [
    "vif_final"
   ]
  },
  {
   "cell_type": "markdown",
   "metadata": {},
   "source": [
    "## olsmodel3 can be considered as final model"
   ]
  },
  {
   "cell_type": "code",
   "execution_count": 158,
   "metadata": {},
   "outputs": [],
   "source": [
    "import lmdiag"
   ]
  },
  {
   "cell_type": "code",
   "execution_count": 162,
   "metadata": {},
   "outputs": [
    {
     "data": {
      "text/plain": [
       "<Figure size 1080x720 with 0 Axes>"
      ]
     },
     "execution_count": 162,
     "metadata": {},
     "output_type": "execute_result"
    },
    {
     "data": {
      "text/plain": [
       "<module 'matplotlib.pyplot' from 'C:\\\\ProgramData\\\\Anaconda3\\\\lib\\\\site-packages\\\\matplotlib\\\\pyplot.py'>"
      ]
     },
     "execution_count": 162,
     "metadata": {},
     "output_type": "execute_result"
    },
    {
     "data": {
      "image/png": "[encoded data removed]",
      "text/plain": [
       "<Figure size 1080x720 with 4 Axes>"
      ]
     },
     "metadata": {},
     "output_type": "display_data"
    }
   ],
   "source": [
    "plt.figure(figsize = (15,10))\n",
    "\n",
    "lmdiag.plot(olsmodel3)"
   ]
  },
  {
   "cell_type": "code",
   "execution_count": 163,
   "metadata": {},
   "outputs": [
    {
     "data": {
      "text/plain": [
       "<matplotlib.axes._subplots.AxesSubplot at 0x1f413bfa708>"
      ]
     },
     "execution_count": 163,
     "metadata": {},
     "output_type": "execute_result"
    },
    {
     "data": {
      "image/png": "[encoded data removed]",
      "text/plain": [
       "<Figure size 432x288 with 1 Axes>"
      ]
     },
     "metadata": {},
     "output_type": "display_data"
    }
   ],
   "source": [
    "sns.distplot(olsmodel3.resid)"
   ]
  },
  {
   "cell_type": "code",
   "execution_count": 170,
   "metadata": {},
   "outputs": [],
   "source": [
    "import statsmodels.api as sm"
   ]
  },
  {
   "cell_type": "code",
   "execution_count": 178,
   "metadata": {},
   "outputs": [
    {
     "data": {
      "image/png": "[encoded data removed]",
      "text/plain": [
       "<Figure size 432x288 with 1 Axes>"
      ]
     },
     "metadata": {},
     "output_type": "display_data"
    }
   ],
   "source": [
    "sm.graphics.qqplot(olsmodel3.resid, line='s')\n",
    "plt.show();"
   ]
  },
  {
   "cell_type": "code",
   "execution_count": 172,
   "metadata": {},
   "outputs": [],
   "source": [
    "from scipy.stats import shapiro"
   ]
  },
  {
   "cell_type": "code",
   "execution_count": 175,
   "metadata": {},
   "outputs": [
    {
     "data": {
      "text/plain": [
       "(0.9640491008758545, 0.4774274528026581)"
      ]
     },
     "execution_count": 175,
     "metadata": {},
     "output_type": "execute_result"
    }
   ],
   "source": [
    "shapiro(olsmodel3.resid)"
   ]
  },
  {
   "cell_type": "code",
   "execution_count": 177,
   "metadata": {},
   "outputs": [
    {
     "data": {
      "image/png": "[encoded data removed]",
      "text/plain": [
       "<Figure size 432x288 with 1 Axes>"
      ]
     },
     "metadata": {},
     "output_type": "display_data"
    }
   ],
   "source": [
    "sm.graphics.influence_plot(olsmodel3)\n",
    "plt.show();"
   ]
  },
  {
   "cell_type": "code",
   "execution_count": 192,
   "metadata": {},
   "outputs": [
    {
     "data": {
      "text/html": [
       "<div>\n",
       "<style scoped>\n",
       "    .dataframe tbody tr th:only-of-type {\n",
       "        vertical-align: middle;\n",
       "    }\n",
       "\n",
       "    .dataframe tbody tr th {\n",
       "        vertical-align: top;\n",
       "    }\n",
       "\n",
       "    .dataframe thead th {\n",
       "        text-align: right;\n",
       "    }\n",
       "</style>\n",
       "<table border=\"1\" class=\"dataframe\">\n",
       "  <thead>\n",
       "    <tr style=\"text-align: right;\">\n",
       "      <th></th>\n",
       "      <th>dfb_Intercept</th>\n",
       "      <th>dfb_USEnergy</th>\n",
       "      <th>dfb_USAutoFuelRate</th>\n",
       "      <th>cooks_d</th>\n",
       "      <th>standard_resid</th>\n",
       "      <th>hat_diag</th>\n",
       "      <th>dffits_internal</th>\n",
       "      <th>student_resid</th>\n",
       "      <th>dffits</th>\n",
       "    </tr>\n",
       "  </thead>\n",
       "  <tbody>\n",
       "    <tr>\n",
       "      <td>23</td>\n",
       "      <td>0.549903</td>\n",
       "      <td>-0.454244</td>\n",
       "      <td>0.127741</td>\n",
       "      <td>0.142017</td>\n",
       "      <td>-1.404651</td>\n",
       "      <td>0.177588</td>\n",
       "      <td>-0.652726</td>\n",
       "      <td>-1.436785</td>\n",
       "      <td>-0.667658</td>\n",
       "    </tr>\n",
       "    <tr>\n",
       "      <td>0</td>\n",
       "      <td>-0.011831</td>\n",
       "      <td>-0.284691</td>\n",
       "      <td>0.573559</td>\n",
       "      <td>0.166022</td>\n",
       "      <td>-1.663659</td>\n",
       "      <td>0.152509</td>\n",
       "      <td>-0.705739</td>\n",
       "      <td>-1.734817</td>\n",
       "      <td>-0.735924</td>\n",
       "    </tr>\n",
       "    <tr>\n",
       "      <td>25</td>\n",
       "      <td>-0.567156</td>\n",
       "      <td>0.426725</td>\n",
       "      <td>-0.041307</td>\n",
       "      <td>0.168121</td>\n",
       "      <td>1.599970</td>\n",
       "      <td>0.164595</td>\n",
       "      <td>0.710185</td>\n",
       "      <td>1.659900</td>\n",
       "      <td>0.736786</td>\n",
       "    </tr>\n",
       "    <tr>\n",
       "      <td>6</td>\n",
       "      <td>-0.355959</td>\n",
       "      <td>0.671368</td>\n",
       "      <td>-0.843228</td>\n",
       "      <td>0.266052</td>\n",
       "      <td>1.979056</td>\n",
       "      <td>0.169287</td>\n",
       "      <td>0.893396</td>\n",
       "      <td>2.124919</td>\n",
       "      <td>0.959242</td>\n",
       "    </tr>\n",
       "  </tbody>\n",
       "</table>\n",
       "</div>"
      ],
      "text/plain": [
       "    dfb_Intercept  dfb_USEnergy  dfb_USAutoFuelRate   cooks_d  standard_resid  \\\n",
       "23       0.549903     -0.454244            0.127741  0.142017       -1.404651   \n",
       "0       -0.011831     -0.284691            0.573559  0.166022       -1.663659   \n",
       "25      -0.567156      0.426725           -0.041307  0.168121        1.599970   \n",
       "6       -0.355959      0.671368           -0.843228  0.266052        1.979056   \n",
       "\n",
       "    hat_diag  dffits_internal  student_resid    dffits  \n",
       "23  0.177588        -0.652726      -1.436785 -0.667658  \n",
       "0   0.152509        -0.705739      -1.734817 -0.735924  \n",
       "25  0.164595         0.710185       1.659900  0.736786  \n",
       "6   0.169287         0.893396       2.124919  0.959242  "
      ]
     },
     "execution_count": 192,
     "metadata": {},
     "output_type": "execute_result"
    }
   ],
   "source": [
    "data_cooks_d = olsmodel3.get_influence().summary_frame()\n",
    "\n",
    "data_cooks_d[data_cooks_d.cooks_d > .1].sort_values('cooks_d')"
   ]
  },
  {
   "cell_type": "code",
   "execution_count": 196,
   "metadata": {},
   "outputs": [
    {
     "data": {
      "text/html": [
       "<div>\n",
       "<style scoped>\n",
       "    .dataframe tbody tr th:only-of-type {\n",
       "        vertical-align: middle;\n",
       "    }\n",
       "\n",
       "    .dataframe tbody tr th {\n",
       "        vertical-align: top;\n",
       "    }\n",
       "\n",
       "    .dataframe thead th {\n",
       "        text-align: right;\n",
       "    }\n",
       "</style>\n",
       "<table border=\"1\" class=\"dataframe\">\n",
       "  <thead>\n",
       "    <tr style=\"text-align: right;\">\n",
       "      <th></th>\n",
       "      <th>WorldOil</th>\n",
       "      <th>USEnergy</th>\n",
       "      <th>USAutoFuelRate</th>\n",
       "      <th>USNuclear</th>\n",
       "      <th>USCoal</th>\n",
       "      <th>USDryGas</th>\n",
       "    </tr>\n",
       "  </thead>\n",
       "  <tbody>\n",
       "    <tr>\n",
       "      <td>0</td>\n",
       "      <td>55.7</td>\n",
       "      <td>74.3</td>\n",
       "      <td>13.4</td>\n",
       "      <td>83.5</td>\n",
       "      <td>598.6</td>\n",
       "      <td>21.7</td>\n",
       "    </tr>\n",
       "    <tr>\n",
       "      <td>25</td>\n",
       "      <td>67.0</td>\n",
       "      <td>89.7</td>\n",
       "      <td>21.6</td>\n",
       "      <td>666.8</td>\n",
       "      <td>1109.8</td>\n",
       "      <td>18.9</td>\n",
       "    </tr>\n",
       "    <tr>\n",
       "      <td>6</td>\n",
       "      <td>62.7</td>\n",
       "      <td>78.9</td>\n",
       "      <td>14.6</td>\n",
       "      <td>255.2</td>\n",
       "      <td>781.1</td>\n",
       "      <td>19.7</td>\n",
       "    </tr>\n",
       "  </tbody>\n",
       "</table>\n",
       "</div>"
      ],
      "text/plain": [
       "    WorldOil  USEnergy  USAutoFuelRate  USNuclear  USCoal  USDryGas\n",
       "0       55.7      74.3            13.4       83.5   598.6      21.7\n",
       "25      67.0      89.7            21.6      666.8  1109.8      18.9\n",
       "6       62.7      78.9            14.6      255.2   781.1      19.7"
      ]
     },
     "execution_count": 196,
     "metadata": {},
     "output_type": "execute_result"
    }
   ],
   "source": [
    "data.iloc[[0,25,6],:]"
   ]
  },
  {
   "cell_type": "markdown",
   "metadata": {},
   "source": [
    "## RMSE"
   ]
  },
  {
   "cell_type": "code",
   "execution_count": 197,
   "metadata": {},
   "outputs": [],
   "source": [
    "from sklearn import metrics"
   ]
  },
  {
   "cell_type": "code",
   "execution_count": 198,
   "metadata": {},
   "outputs": [
    {
     "data": {
      "text/html": [
       "<div>\n",
       "<style scoped>\n",
       "    .dataframe tbody tr th:only-of-type {\n",
       "        vertical-align: middle;\n",
       "    }\n",
       "\n",
       "    .dataframe tbody tr th {\n",
       "        vertical-align: top;\n",
       "    }\n",
       "\n",
       "    .dataframe thead th {\n",
       "        text-align: right;\n",
       "    }\n",
       "</style>\n",
       "<table border=\"1\" class=\"dataframe\">\n",
       "  <thead>\n",
       "    <tr style=\"text-align: right;\">\n",
       "      <th></th>\n",
       "      <th>USEnergy</th>\n",
       "      <th>USAutoFuelRate</th>\n",
       "    </tr>\n",
       "  </thead>\n",
       "  <tbody>\n",
       "    <tr>\n",
       "      <td>0</td>\n",
       "      <td>74.3</td>\n",
       "      <td>13.4</td>\n",
       "    </tr>\n",
       "    <tr>\n",
       "      <td>1</td>\n",
       "      <td>72.5</td>\n",
       "      <td>13.6</td>\n",
       "    </tr>\n",
       "    <tr>\n",
       "      <td>2</td>\n",
       "      <td>70.5</td>\n",
       "      <td>14.0</td>\n",
       "    </tr>\n",
       "    <tr>\n",
       "      <td>3</td>\n",
       "      <td>74.4</td>\n",
       "      <td>13.8</td>\n",
       "    </tr>\n",
       "    <tr>\n",
       "      <td>4</td>\n",
       "      <td>76.3</td>\n",
       "      <td>14.1</td>\n",
       "    </tr>\n",
       "  </tbody>\n",
       "</table>\n",
       "</div>"
      ],
      "text/plain": [
       "   USEnergy  USAutoFuelRate\n",
       "0      74.3            13.4\n",
       "1      72.5            13.6\n",
       "2      70.5            14.0\n",
       "3      74.4            13.8\n",
       "4      76.3            14.1"
      ]
     },
     "execution_count": 198,
     "metadata": {},
     "output_type": "execute_result"
    }
   ],
   "source": [
    "X_final.head()"
   ]
  },
  {
   "cell_type": "code",
   "execution_count": 199,
   "metadata": {},
   "outputs": [
    {
     "data": {
      "text/plain": [
       "1.065366582869717"
      ]
     },
     "execution_count": 199,
     "metadata": {},
     "output_type": "execute_result"
    }
   ],
   "source": [
    "np.sqrt(metrics.mean_squared_error(Y,olsmodel.predict(X)))"
   ]
  },
  {
   "cell_type": "code",
   "execution_count": 201,
   "metadata": {},
   "outputs": [
    {
     "data": {
      "text/plain": [
       "89.07738908516305"
      ]
     },
     "execution_count": 201,
     "metadata": {},
     "output_type": "execute_result"
    },
    {
     "data": {
      "text/plain": [
       "96.62596831329193"
      ]
     },
     "execution_count": 201,
     "metadata": {},
     "output_type": "execute_result"
    }
   ],
   "source": [
    "olsmodel.aic; olsmodel.bic"
   ]
  },
  {
   "cell_type": "code",
   "execution_count": 202,
   "metadata": {},
   "outputs": [
    {
     "data": {
      "text/plain": [
       "85.71535856177383"
      ]
     },
     "execution_count": 202,
     "metadata": {},
     "output_type": "execute_result"
    },
    {
     "data": {
      "text/plain": [
       "90.74774471385976"
      ]
     },
     "execution_count": 202,
     "metadata": {},
     "output_type": "execute_result"
    }
   ],
   "source": [
    "olsmodel1.aic; olsmodel1.bic"
   ]
  },
  {
   "cell_type": "code",
   "execution_count": 203,
   "metadata": {},
   "outputs": [
    {
     "data": {
      "text/plain": [
       "86.94271831736773"
      ]
     },
     "execution_count": 203,
     "metadata": {},
     "output_type": "execute_result"
    },
    {
     "data": {
      "text/plain": [
       "90.71700793143218"
      ]
     },
     "execution_count": 203,
     "metadata": {},
     "output_type": "execute_result"
    }
   ],
   "source": [
    "olsmodel2.aic; olsmodel2.bic"
   ]
  },
  {
   "cell_type": "code",
   "execution_count": 204,
   "metadata": {},
   "outputs": [
    {
     "data": {
      "text/plain": [
       "86.94271831736773"
      ]
     },
     "execution_count": 204,
     "metadata": {},
     "output_type": "execute_result"
    },
    {
     "data": {
      "text/plain": [
       "90.71700793143218"
      ]
     },
     "execution_count": 204,
     "metadata": {},
     "output_type": "execute_result"
    }
   ],
   "source": [
    "olsmodel3.aic; olsmodel3.bic"
   ]
  },
  {
   "cell_type": "code",
   "execution_count": null,
   "metadata": {},
   "outputs": [],
   "source": [
    " "
   ]
  }
 ],
 "metadata": {
  "kernelspec": {
   "display_name": "Python 3",
   "language": "python",
   "name": "python3"
  },
  "language_info": {
   "codemirror_mode": {
    "name": "ipython",
    "version": 3
   },
   "file_extension": ".py",
   "mimetype": "text/x-python",
   "name": "python",
   "nbconvert_exporter": "python",
   "pygments_lexer": "ipython3",
   "version": "3.7.4"
  }
 },
 "nbformat": 4,
 "nbformat_minor": 2
}
